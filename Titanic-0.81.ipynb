{
 "cells": [
  {
   "cell_type": "code",
   "execution_count": 1,
   "metadata": {},
   "outputs": [
    {
     "name": "stdout",
     "output_type": "stream",
     "text": [
      "(891, 12)\n"
     ]
    }
   ],
   "source": [
    "#加载必要库\n",
    "import pandas as pd\n",
    "import numpy as np\n",
    "import matplotlib.pyplot as plt\n",
    "%matplotlib inline\n",
    "#读取数据集\n",
    "df_train=pd.read_csv('train.csv')\n",
    "\n",
    "print(df_train.shape)"
   ]
  },
  {
   "cell_type": "code",
   "execution_count": 2,
   "metadata": {},
   "outputs": [
    {
     "name": "stdout",
     "output_type": "stream",
     "text": [
      "(891, 11)\n",
      "          total   percent\n",
      "Cabin       687  0.771044\n",
      "Age         177  0.198653\n",
      "Embarked      2  0.002245\n",
      "Fare          0  0.000000\n",
      "Ticket        0  0.000000\n",
      "Parch         0  0.000000\n",
      "SibSp         0  0.000000\n",
      "Sex           0  0.000000\n",
      "Name          0  0.000000\n",
      "Pclass        0  0.000000\n",
      "Survived      0  0.000000\n"
     ]
    }
   ],
   "source": [
    " #删除并返回数据集中SalePrice标签列(pop用法例子) \n",
    "df_train=df_train.drop(\"PassengerId\",axis=1)\n",
    "total=df_train.isnull().sum().sort_values(ascending=False)  #每列缺失数量\n",
    "percent=(df_train.isnull().sum()/len(df_train)).sort_values(ascending=False) #每列缺失率\n",
    "miss_data=pd.concat([total,percent],axis=1,keys=['total','percent'])\n",
    "print(df_train.shape)\n",
    "print(miss_data.head(20)) #显示每个列及其对应的缺失率\n",
    "# print(df_train[\"Survived\"])"
   ]
  },
  {
   "cell_type": "code",
   "execution_count": 3,
   "metadata": {},
   "outputs": [
    {
     "name": "stdout",
     "output_type": "stream",
     "text": [
      "(891, 11)\n",
      "(891, 10)\n"
     ]
    }
   ],
   "source": [
    "#去除了percent>0.4的列\n",
    "print(df_train.shape)\n",
    "df_train=df_train.drop(miss_data[miss_data['percent']>0.4].index,axis=1)\n",
    "print(df_train.shape)"
   ]
  },
  {
   "cell_type": "code",
   "execution_count": 4,
   "metadata": {},
   "outputs": [
    {
     "data": {
      "text/html": [
       "<div>\n",
       "<style>\n",
       "    .dataframe thead tr:only-child th {\n",
       "        text-align: right;\n",
       "    }\n",
       "\n",
       "    .dataframe thead th {\n",
       "        text-align: left;\n",
       "    }\n",
       "\n",
       "    .dataframe tbody tr th {\n",
       "        vertical-align: top;\n",
       "    }\n",
       "</style>\n",
       "<table border=\"1\" class=\"dataframe\">\n",
       "  <thead>\n",
       "    <tr style=\"text-align: right;\">\n",
       "      <th></th>\n",
       "      <th>total</th>\n",
       "      <th>percent</th>\n",
       "    </tr>\n",
       "  </thead>\n",
       "  <tbody>\n",
       "    <tr>\n",
       "      <th>Embarked</th>\n",
       "      <td>2</td>\n",
       "      <td>0.002245</td>\n",
       "    </tr>\n",
       "    <tr>\n",
       "      <th>Fare</th>\n",
       "      <td>0</td>\n",
       "      <td>0.000000</td>\n",
       "    </tr>\n",
       "    <tr>\n",
       "      <th>Ticket</th>\n",
       "      <td>0</td>\n",
       "      <td>0.000000</td>\n",
       "    </tr>\n",
       "    <tr>\n",
       "      <th>Parch</th>\n",
       "      <td>0</td>\n",
       "      <td>0.000000</td>\n",
       "    </tr>\n",
       "    <tr>\n",
       "      <th>SibSp</th>\n",
       "      <td>0</td>\n",
       "      <td>0.000000</td>\n",
       "    </tr>\n",
       "    <tr>\n",
       "      <th>Age</th>\n",
       "      <td>0</td>\n",
       "      <td>0.000000</td>\n",
       "    </tr>\n",
       "    <tr>\n",
       "      <th>Sex</th>\n",
       "      <td>0</td>\n",
       "      <td>0.000000</td>\n",
       "    </tr>\n",
       "    <tr>\n",
       "      <th>Name</th>\n",
       "      <td>0</td>\n",
       "      <td>0.000000</td>\n",
       "    </tr>\n",
       "    <tr>\n",
       "      <th>Pclass</th>\n",
       "      <td>0</td>\n",
       "      <td>0.000000</td>\n",
       "    </tr>\n",
       "    <tr>\n",
       "      <th>Survived</th>\n",
       "      <td>0</td>\n",
       "      <td>0.000000</td>\n",
       "    </tr>\n",
       "  </tbody>\n",
       "</table>\n",
       "</div>"
      ],
      "text/plain": [
       "          total   percent\n",
       "Embarked      2  0.002245\n",
       "Fare          0  0.000000\n",
       "Ticket        0  0.000000\n",
       "Parch         0  0.000000\n",
       "SibSp         0  0.000000\n",
       "Age           0  0.000000\n",
       "Sex           0  0.000000\n",
       "Name          0  0.000000\n",
       "Pclass        0  0.000000\n",
       "Survived      0  0.000000"
      ]
     },
     "execution_count": 4,
     "metadata": {},
     "output_type": "execute_result"
    }
   ],
   "source": [
    "#均值补齐“Age”列\n",
    "df_train['Age'].fillna(df_train['Age'].mean(),inplace=True) \n",
    "total=df_train.isnull().sum().sort_values(ascending=False)  #每列缺失数量\n",
    "percent=(df_train.isnull().sum()/len(df_train)).sort_values(ascending=False) #每列缺失率\n",
    "miss_data=pd.concat([total,percent],axis=1,keys=['total','percent'])\n",
    "miss_data.head(10) #显示每个列及其对应的缺失率"
   ]
  },
  {
   "cell_type": "code",
   "execution_count": 5,
   "metadata": {},
   "outputs": [
    {
     "name": "stdout",
     "output_type": "stream",
     "text": [
      "(891, 9)\n"
     ]
    }
   ],
   "source": [
    "# 删除name列\n",
    "df_train = df_train.drop(\"Name\",axis=1)\n",
    "print(df_train.shape)\n"
   ]
  },
  {
   "cell_type": "code",
   "execution_count": 6,
   "metadata": {},
   "outputs": [
    {
     "data": {
      "text/html": [
       "<div>\n",
       "<style>\n",
       "    .dataframe thead tr:only-child th {\n",
       "        text-align: right;\n",
       "    }\n",
       "\n",
       "    .dataframe thead th {\n",
       "        text-align: left;\n",
       "    }\n",
       "\n",
       "    .dataframe tbody tr th {\n",
       "        vertical-align: top;\n",
       "    }\n",
       "</style>\n",
       "<table border=\"1\" class=\"dataframe\">\n",
       "  <thead>\n",
       "    <tr style=\"text-align: right;\">\n",
       "      <th></th>\n",
       "      <th>total</th>\n",
       "      <th>percent</th>\n",
       "    </tr>\n",
       "  </thead>\n",
       "  <tbody>\n",
       "    <tr>\n",
       "      <th>Embarked</th>\n",
       "      <td>0</td>\n",
       "      <td>0.0</td>\n",
       "    </tr>\n",
       "    <tr>\n",
       "      <th>Fare</th>\n",
       "      <td>0</td>\n",
       "      <td>0.0</td>\n",
       "    </tr>\n",
       "    <tr>\n",
       "      <th>Ticket</th>\n",
       "      <td>0</td>\n",
       "      <td>0.0</td>\n",
       "    </tr>\n",
       "    <tr>\n",
       "      <th>Parch</th>\n",
       "      <td>0</td>\n",
       "      <td>0.0</td>\n",
       "    </tr>\n",
       "    <tr>\n",
       "      <th>SibSp</th>\n",
       "      <td>0</td>\n",
       "      <td>0.0</td>\n",
       "    </tr>\n",
       "    <tr>\n",
       "      <th>Age</th>\n",
       "      <td>0</td>\n",
       "      <td>0.0</td>\n",
       "    </tr>\n",
       "    <tr>\n",
       "      <th>Sex</th>\n",
       "      <td>0</td>\n",
       "      <td>0.0</td>\n",
       "    </tr>\n",
       "    <tr>\n",
       "      <th>Pclass</th>\n",
       "      <td>0</td>\n",
       "      <td>0.0</td>\n",
       "    </tr>\n",
       "    <tr>\n",
       "      <th>Survived</th>\n",
       "      <td>0</td>\n",
       "      <td>0.0</td>\n",
       "    </tr>\n",
       "  </tbody>\n",
       "</table>\n",
       "</div>"
      ],
      "text/plain": [
       "          total  percent\n",
       "Embarked      0      0.0\n",
       "Fare          0      0.0\n",
       "Ticket        0      0.0\n",
       "Parch         0      0.0\n",
       "SibSp         0      0.0\n",
       "Age           0      0.0\n",
       "Sex           0      0.0\n",
       "Pclass        0      0.0\n",
       "Survived      0      0.0"
      ]
     },
     "execution_count": 6,
     "metadata": {},
     "output_type": "execute_result"
    }
   ],
   "source": [
    "df_train.dropna(axis=0, how='any', inplace=True)\n",
    "total=df_train.isnull().sum().sort_values(ascending=False)  #每列缺失数量\n",
    "percent=(df_train.isnull().sum()/len(df_train)).sort_values(ascending=False) #每列缺失率\n",
    "miss_data=pd.concat([total,percent],axis=1,keys=['total','percent'])\n",
    "miss_data.head(10) #显示每个列及其对应的缺失率"
   ]
  },
  {
   "cell_type": "code",
   "execution_count": 7,
   "metadata": {},
   "outputs": [
    {
     "name": "stdout",
     "output_type": "stream",
     "text": [
      "(889, 9)\n",
      "0      0\n",
      "1      1\n",
      "2      1\n",
      "3      1\n",
      "4      0\n",
      "5      0\n",
      "6      0\n",
      "7      0\n",
      "8      1\n",
      "9      1\n",
      "10     1\n",
      "11     1\n",
      "12     0\n",
      "13     0\n",
      "14     0\n",
      "15     1\n",
      "16     0\n",
      "17     1\n",
      "18     0\n",
      "19     1\n",
      "20     0\n",
      "21     1\n",
      "22     1\n",
      "23     1\n",
      "24     0\n",
      "25     1\n",
      "26     0\n",
      "27     0\n",
      "28     1\n",
      "29     0\n",
      "      ..\n",
      "861    0\n",
      "862    1\n",
      "863    0\n",
      "864    0\n",
      "865    1\n",
      "866    1\n",
      "867    0\n",
      "868    0\n",
      "869    1\n",
      "870    0\n",
      "871    1\n",
      "872    0\n",
      "873    0\n",
      "874    1\n",
      "875    1\n",
      "876    0\n",
      "877    0\n",
      "878    0\n",
      "879    1\n",
      "880    1\n",
      "881    0\n",
      "882    0\n",
      "883    0\n",
      "884    0\n",
      "885    0\n",
      "886    0\n",
      "887    1\n",
      "888    0\n",
      "889    1\n",
      "890    0\n",
      "Name: Survived, Length: 889, dtype: int64\n"
     ]
    }
   ],
   "source": [
    "print(df_train.shape)\n",
    "print(df_train[\"Survived\"])"
   ]
  },
  {
   "cell_type": "code",
   "execution_count": 8,
   "metadata": {},
   "outputs": [
    {
     "name": "stdout",
     "output_type": "stream",
     "text": [
      "(889, 2)\n",
      "(889, 680)\n",
      "(889, 3)\n",
      "(889, 686)\n"
     ]
    }
   ],
   "source": [
    "dummies_sex = pd.get_dummies(df_train['Sex'])\n",
    "print(dummies_sex.shape)\n",
    "# ,\"Ticket\",\"Embarked\"\n",
    "dummies_Ticket = pd.get_dummies(df_train['Ticket'])\n",
    "print(dummies_Ticket.shape)\n",
    "\n",
    "dummies_Embarked = pd.get_dummies(df_train['Embarked'])\n",
    "print(dummies_Embarked.shape)\n",
    "# df_with_dummy = df[['data1']].join(dummies)\n",
    "# print(df_with_dummy)\n",
    "dummies = pd.concat([dummies_sex,dummies_Ticket,dummies_Embarked,df_train['Age']],axis=1)\n",
    "print(dummies.shape)\n"
   ]
  },
  {
   "cell_type": "code",
   "execution_count": 9,
   "metadata": {},
   "outputs": [
    {
     "name": "stdout",
     "output_type": "stream",
     "text": [
      "(889, 686)\n",
      "(889, 9)\n",
      "0      0\n",
      "1      1\n",
      "2      1\n",
      "3      1\n",
      "4      0\n",
      "5      0\n",
      "6      0\n",
      "7      0\n",
      "8      1\n",
      "9      1\n",
      "10     1\n",
      "11     1\n",
      "12     0\n",
      "13     0\n",
      "14     0\n",
      "15     1\n",
      "16     0\n",
      "17     1\n",
      "18     0\n",
      "19     1\n",
      "20     0\n",
      "21     1\n",
      "22     1\n",
      "23     1\n",
      "24     0\n",
      "25     1\n",
      "26     0\n",
      "27     0\n",
      "28     1\n",
      "29     0\n",
      "      ..\n",
      "861    0\n",
      "862    1\n",
      "863    0\n",
      "864    0\n",
      "865    1\n",
      "866    1\n",
      "867    0\n",
      "868    0\n",
      "869    1\n",
      "870    0\n",
      "871    1\n",
      "872    0\n",
      "873    0\n",
      "874    1\n",
      "875    1\n",
      "876    0\n",
      "877    0\n",
      "878    0\n",
      "879    1\n",
      "880    1\n",
      "881    0\n",
      "882    0\n",
      "883    0\n",
      "884    0\n",
      "885    0\n",
      "886    0\n",
      "887    1\n",
      "888    0\n",
      "889    1\n",
      "890    0\n",
      "Name: Survived, Length: 889, dtype: int64\n"
     ]
    }
   ],
   "source": [
    "from sklearn.decomposition import PCA\n",
    "pca = PCA(n_components=9)\n",
    "x_train = dummies.values\n",
    "print(x_train.shape)\n",
    "new_x_train = pca.fit_transform(x_train)\n",
    "print(new_x_train.shape)\n",
    "y_train = df_train['Survived']\n",
    "print(y_train)"
   ]
  },
  {
   "cell_type": "code",
   "execution_count": 10,
   "metadata": {},
   "outputs": [
    {
     "name": "stdout",
     "output_type": "stream",
     "text": [
      "(889, 9)\n"
     ]
    }
   ],
   "source": [
    "from sklearn.preprocessing import StandardScaler\n",
    "std = StandardScaler()\n",
    "new_x_train = std.fit_transform(new_x_train,)\n",
    "print(new_x_train.shape)"
   ]
  },
  {
   "cell_type": "code",
   "execution_count": 11,
   "metadata": {},
   "outputs": [
    {
     "name": "stdout",
     "output_type": "stream",
     "text": [
      "(666, 9) (666,)\n",
      "(223, 9) (223,)\n"
     ]
    }
   ],
   "source": [
    "from sklearn.model_selection import train_test_split\n",
    "x_train,x_test,y_train,y_test = train_test_split(new_x_train,y_train)\n",
    "print(x_train.shape,y_train.shape)\n",
    "print(x_test.shape,y_test.shape)"
   ]
  },
  {
   "cell_type": "code",
   "execution_count": 12,
   "metadata": {},
   "outputs": [
    {
     "name": "stdout",
     "output_type": "stream",
     "text": [
      "0.812312312312\n",
      "0.784753363229\n"
     ]
    }
   ],
   "source": [
    "from sklearn.svm import SVC\n",
    "svm = SVC()\n",
    "svm.fit(x_train,y_train)\n",
    "print(svm.score(x_train,y_train))\n",
    "print(svm.score(x_test,y_test))"
   ]
  },
  {
   "cell_type": "code",
   "execution_count": 13,
   "metadata": {},
   "outputs": [
    {
     "name": "stdout",
     "output_type": "stream",
     "text": [
      "[0 1 1 1 0 0 0 0 1 1]\n",
      "338    1\n",
      "375    1\n",
      "111    0\n",
      "452    0\n",
      "828    1\n",
      "365    0\n",
      "318    1\n",
      "492    0\n",
      "358    1\n",
      "102    0\n",
      "Name: Survived, dtype: int64\n"
     ]
    }
   ],
   "source": [
    "print(svm.predict(new_x_train)[:10])\n",
    "print(y_train[:10])"
   ]
  },
  {
   "cell_type": "code",
   "execution_count": 14,
   "metadata": {
    "collapsed": true
   },
   "outputs": [],
   "source": [
    "df_test=pd.read_csv('test.csv')"
   ]
  },
  {
   "cell_type": "code",
   "execution_count": 15,
   "metadata": {},
   "outputs": [
    {
     "name": "stdout",
     "output_type": "stream",
     "text": [
      "     Pclass     Sex   Age  SibSp  Parch              Ticket      Fare Embarked\n",
      "0         3    male  34.5      0      0              330911    7.8292        Q\n",
      "1         3  female  47.0      1      0              363272    7.0000        S\n",
      "2         2    male  62.0      0      0              240276    9.6875        Q\n",
      "3         3    male  27.0      0      0              315154    8.6625        S\n",
      "4         3  female  22.0      1      1             3101298   12.2875        S\n",
      "5         3    male  14.0      0      0                7538    9.2250        S\n",
      "6         3  female  30.0      0      0              330972    7.6292        Q\n",
      "7         2    male  26.0      1      1              248738   29.0000        S\n",
      "8         3  female  18.0      0      0                2657    7.2292        C\n",
      "9         3    male  21.0      2      0           A/4 48871   24.1500        S\n",
      "10        3    male   NaN      0      0              349220    7.8958        S\n",
      "11        1    male  46.0      0      0                 694   26.0000        S\n",
      "12        1  female  23.0      1      0               21228   82.2667        S\n",
      "13        2    male  63.0      1      0               24065   26.0000        S\n",
      "14        1  female  47.0      1      0         W.E.P. 5734   61.1750        S\n",
      "15        2  female  24.0      1      0       SC/PARIS 2167   27.7208        C\n",
      "16        2    male  35.0      0      0              233734   12.3500        Q\n",
      "17        3    male  21.0      0      0                2692    7.2250        C\n",
      "18        3  female  27.0      1      0    STON/O2. 3101270    7.9250        S\n",
      "19        3  female  45.0      0      0                2696    7.2250        C\n",
      "20        1    male  55.0      1      0            PC 17603   59.4000        C\n",
      "21        3    male   9.0      0      1             C 17368    3.1708        S\n",
      "22        1  female   NaN      0      0            PC 17598   31.6833        S\n",
      "23        1    male  21.0      0      1            PC 17597   61.3792        C\n",
      "24        1  female  48.0      1      3            PC 17608  262.3750        C\n",
      "25        3    male  50.0      1      0           A/5. 3337   14.5000        S\n",
      "26        1  female  22.0      0      1              113509   61.9792        C\n",
      "27        3    male  22.5      0      0                2698    7.2250        C\n",
      "28        1    male  41.0      0      0              113054   30.5000        S\n",
      "29        3    male   NaN      2      0                2662   21.6792        C\n",
      "..      ...     ...   ...    ...    ...                 ...       ...      ...\n",
      "388       3    male  21.0      0      0              364858    7.7500        Q\n",
      "389       3    male   6.0      3      1              349909   21.0750        S\n",
      "390       1    male  23.0      0      0               12749   93.5000        S\n",
      "391       1  female  51.0      0      1            PC 17592   39.4000        S\n",
      "392       3    male  13.0      0      2           C.A. 2673   20.2500        S\n",
      "393       2    male  47.0      0      0          C.A. 30769   10.5000        S\n",
      "394       3    male  29.0      3      1              315153   22.0250        S\n",
      "395       1  female  18.0      1      0               13695   60.0000        S\n",
      "396       3    male  24.0      0      0              371109    7.2500        Q\n",
      "397       1  female  48.0      1      1               13567   79.2000        C\n",
      "398       3    male  22.0      0      0              347065    7.7750        S\n",
      "399       3    male  31.0      0      0               21332    7.7333        Q\n",
      "400       1  female  30.0      0      0               36928  164.8667        S\n",
      "401       2    male  38.0      1      0               28664   21.0000        S\n",
      "402       1  female  22.0      0      1              112378   59.4000        C\n",
      "403       1    male  17.0      0      0              113059   47.1000        S\n",
      "404       1    male  43.0      1      0               17765   27.7208        C\n",
      "405       2    male  20.0      0      0       SC/PARIS 2166   13.8625        C\n",
      "406       2    male  23.0      1      0               28666   10.5000        S\n",
      "407       1    male  50.0      1      1              113503  211.5000        C\n",
      "408       3  female   NaN      0      0              334915    7.7208        Q\n",
      "409       3  female   3.0      1      1  SOTON/O.Q. 3101315   13.7750        S\n",
      "410       3  female   NaN      0      0              365237    7.7500        Q\n",
      "411       1  female  37.0      1      0               19928   90.0000        Q\n",
      "412       3  female  28.0      0      0              347086    7.7750        S\n",
      "413       3    male   NaN      0      0           A.5. 3236    8.0500        S\n",
      "414       1  female  39.0      0      0            PC 17758  108.9000        C\n",
      "415       3    male  38.5      0      0  SOTON/O.Q. 3101262    7.2500        S\n",
      "416       3    male   NaN      0      0              359309    8.0500        S\n",
      "417       3    male   NaN      1      1                2668   22.3583        C\n",
      "\n",
      "[418 rows x 8 columns]\n"
     ]
    }
   ],
   "source": [
    "df_test=df_test.drop(\"PassengerId\",axis=1)\n",
    "df_test=df_test.drop(\"Name\",axis=1)\n",
    "df_test=df_test.drop(\"Cabin\",axis=1)\n",
    "print(df_test)"
   ]
  },
  {
   "cell_type": "code",
   "execution_count": 16,
   "metadata": {},
   "outputs": [
    {
     "data": {
      "text/html": [
       "<div>\n",
       "<style>\n",
       "    .dataframe thead tr:only-child th {\n",
       "        text-align: right;\n",
       "    }\n",
       "\n",
       "    .dataframe thead th {\n",
       "        text-align: left;\n",
       "    }\n",
       "\n",
       "    .dataframe tbody tr th {\n",
       "        vertical-align: top;\n",
       "    }\n",
       "</style>\n",
       "<table border=\"1\" class=\"dataframe\">\n",
       "  <thead>\n",
       "    <tr style=\"text-align: right;\">\n",
       "      <th></th>\n",
       "      <th>total</th>\n",
       "      <th>percent</th>\n",
       "    </tr>\n",
       "  </thead>\n",
       "  <tbody>\n",
       "    <tr>\n",
       "      <th>Age</th>\n",
       "      <td>86</td>\n",
       "      <td>0.205742</td>\n",
       "    </tr>\n",
       "    <tr>\n",
       "      <th>Fare</th>\n",
       "      <td>1</td>\n",
       "      <td>0.002392</td>\n",
       "    </tr>\n",
       "    <tr>\n",
       "      <th>Embarked</th>\n",
       "      <td>0</td>\n",
       "      <td>0.000000</td>\n",
       "    </tr>\n",
       "    <tr>\n",
       "      <th>Ticket</th>\n",
       "      <td>0</td>\n",
       "      <td>0.000000</td>\n",
       "    </tr>\n",
       "    <tr>\n",
       "      <th>Parch</th>\n",
       "      <td>0</td>\n",
       "      <td>0.000000</td>\n",
       "    </tr>\n",
       "    <tr>\n",
       "      <th>SibSp</th>\n",
       "      <td>0</td>\n",
       "      <td>0.000000</td>\n",
       "    </tr>\n",
       "    <tr>\n",
       "      <th>Sex</th>\n",
       "      <td>0</td>\n",
       "      <td>0.000000</td>\n",
       "    </tr>\n",
       "    <tr>\n",
       "      <th>Pclass</th>\n",
       "      <td>0</td>\n",
       "      <td>0.000000</td>\n",
       "    </tr>\n",
       "  </tbody>\n",
       "</table>\n",
       "</div>"
      ],
      "text/plain": [
       "          total   percent\n",
       "Age          86  0.205742\n",
       "Fare          1  0.002392\n",
       "Embarked      0  0.000000\n",
       "Ticket        0  0.000000\n",
       "Parch         0  0.000000\n",
       "SibSp         0  0.000000\n",
       "Sex           0  0.000000\n",
       "Pclass        0  0.000000"
      ]
     },
     "execution_count": 16,
     "metadata": {},
     "output_type": "execute_result"
    }
   ],
   "source": [
    "total=df_test.isnull().sum().sort_values(ascending=False)  #每列缺失数量\n",
    "percent=(df_test.isnull().sum()/len(df_test)).sort_values(ascending=False) #每列缺失率\n",
    "miss_data=pd.concat([total,percent],axis=1,keys=['total','percent'])\n",
    "miss_data.head(10) #显示每个列及其对应的缺失率"
   ]
  },
  {
   "cell_type": "code",
   "execution_count": 17,
   "metadata": {
    "collapsed": true
   },
   "outputs": [],
   "source": [
    "df_test['Age'].fillna(df_test['Age'].mean(),inplace=True) "
   ]
  },
  {
   "cell_type": "code",
   "execution_count": 18,
   "metadata": {},
   "outputs": [
    {
     "data": {
      "text/html": [
       "<div>\n",
       "<style>\n",
       "    .dataframe thead tr:only-child th {\n",
       "        text-align: right;\n",
       "    }\n",
       "\n",
       "    .dataframe thead th {\n",
       "        text-align: left;\n",
       "    }\n",
       "\n",
       "    .dataframe tbody tr th {\n",
       "        vertical-align: top;\n",
       "    }\n",
       "</style>\n",
       "<table border=\"1\" class=\"dataframe\">\n",
       "  <thead>\n",
       "    <tr style=\"text-align: right;\">\n",
       "      <th></th>\n",
       "      <th>total</th>\n",
       "      <th>percent</th>\n",
       "    </tr>\n",
       "  </thead>\n",
       "  <tbody>\n",
       "    <tr>\n",
       "      <th>Fare</th>\n",
       "      <td>1</td>\n",
       "      <td>0.002392</td>\n",
       "    </tr>\n",
       "    <tr>\n",
       "      <th>Embarked</th>\n",
       "      <td>0</td>\n",
       "      <td>0.000000</td>\n",
       "    </tr>\n",
       "    <tr>\n",
       "      <th>Ticket</th>\n",
       "      <td>0</td>\n",
       "      <td>0.000000</td>\n",
       "    </tr>\n",
       "    <tr>\n",
       "      <th>Parch</th>\n",
       "      <td>0</td>\n",
       "      <td>0.000000</td>\n",
       "    </tr>\n",
       "    <tr>\n",
       "      <th>SibSp</th>\n",
       "      <td>0</td>\n",
       "      <td>0.000000</td>\n",
       "    </tr>\n",
       "    <tr>\n",
       "      <th>Age</th>\n",
       "      <td>0</td>\n",
       "      <td>0.000000</td>\n",
       "    </tr>\n",
       "    <tr>\n",
       "      <th>Sex</th>\n",
       "      <td>0</td>\n",
       "      <td>0.000000</td>\n",
       "    </tr>\n",
       "    <tr>\n",
       "      <th>Pclass</th>\n",
       "      <td>0</td>\n",
       "      <td>0.000000</td>\n",
       "    </tr>\n",
       "  </tbody>\n",
       "</table>\n",
       "</div>"
      ],
      "text/plain": [
       "          total   percent\n",
       "Fare          1  0.002392\n",
       "Embarked      0  0.000000\n",
       "Ticket        0  0.000000\n",
       "Parch         0  0.000000\n",
       "SibSp         0  0.000000\n",
       "Age           0  0.000000\n",
       "Sex           0  0.000000\n",
       "Pclass        0  0.000000"
      ]
     },
     "execution_count": 18,
     "metadata": {},
     "output_type": "execute_result"
    }
   ],
   "source": [
    "total=df_test.isnull().sum().sort_values(ascending=False)  #每列缺失数量\n",
    "percent=(df_test.isnull().sum()/len(df_test)).sort_values(ascending=False) #每列缺失率\n",
    "miss_data=pd.concat([total,percent],axis=1,keys=['total','percent'])\n",
    "miss_data.head(10) #显示每个列及其对应的缺失率"
   ]
  },
  {
   "cell_type": "code",
   "execution_count": 19,
   "metadata": {
    "collapsed": true
   },
   "outputs": [],
   "source": [
    "df_test['Fare'].fillna(df_test['Fare'].mean(),inplace=True) "
   ]
  },
  {
   "cell_type": "code",
   "execution_count": 20,
   "metadata": {},
   "outputs": [
    {
     "data": {
      "text/html": [
       "<div>\n",
       "<style>\n",
       "    .dataframe thead tr:only-child th {\n",
       "        text-align: right;\n",
       "    }\n",
       "\n",
       "    .dataframe thead th {\n",
       "        text-align: left;\n",
       "    }\n",
       "\n",
       "    .dataframe tbody tr th {\n",
       "        vertical-align: top;\n",
       "    }\n",
       "</style>\n",
       "<table border=\"1\" class=\"dataframe\">\n",
       "  <thead>\n",
       "    <tr style=\"text-align: right;\">\n",
       "      <th></th>\n",
       "      <th>total</th>\n",
       "      <th>percent</th>\n",
       "    </tr>\n",
       "  </thead>\n",
       "  <tbody>\n",
       "    <tr>\n",
       "      <th>Embarked</th>\n",
       "      <td>0</td>\n",
       "      <td>0.0</td>\n",
       "    </tr>\n",
       "    <tr>\n",
       "      <th>Fare</th>\n",
       "      <td>0</td>\n",
       "      <td>0.0</td>\n",
       "    </tr>\n",
       "    <tr>\n",
       "      <th>Ticket</th>\n",
       "      <td>0</td>\n",
       "      <td>0.0</td>\n",
       "    </tr>\n",
       "    <tr>\n",
       "      <th>Parch</th>\n",
       "      <td>0</td>\n",
       "      <td>0.0</td>\n",
       "    </tr>\n",
       "    <tr>\n",
       "      <th>SibSp</th>\n",
       "      <td>0</td>\n",
       "      <td>0.0</td>\n",
       "    </tr>\n",
       "    <tr>\n",
       "      <th>Age</th>\n",
       "      <td>0</td>\n",
       "      <td>0.0</td>\n",
       "    </tr>\n",
       "    <tr>\n",
       "      <th>Sex</th>\n",
       "      <td>0</td>\n",
       "      <td>0.0</td>\n",
       "    </tr>\n",
       "    <tr>\n",
       "      <th>Pclass</th>\n",
       "      <td>0</td>\n",
       "      <td>0.0</td>\n",
       "    </tr>\n",
       "  </tbody>\n",
       "</table>\n",
       "</div>"
      ],
      "text/plain": [
       "          total  percent\n",
       "Embarked      0      0.0\n",
       "Fare          0      0.0\n",
       "Ticket        0      0.0\n",
       "Parch         0      0.0\n",
       "SibSp         0      0.0\n",
       "Age           0      0.0\n",
       "Sex           0      0.0\n",
       "Pclass        0      0.0"
      ]
     },
     "execution_count": 20,
     "metadata": {},
     "output_type": "execute_result"
    }
   ],
   "source": [
    "total=df_test.isnull().sum().sort_values(ascending=False)  #每列缺失数量\n",
    "percent=(df_test.isnull().sum()/len(df_test)).sort_values(ascending=False) #每列缺失率\n",
    "miss_data=pd.concat([total,percent],axis=1,keys=['total','percent'])\n",
    "miss_data.head(10) #显示每个列及其对应的缺失率"
   ]
  },
  {
   "cell_type": "code",
   "execution_count": 21,
   "metadata": {},
   "outputs": [
    {
     "name": "stdout",
     "output_type": "stream",
     "text": [
      "     Pclass     Sex       Age  SibSp  Parch              Ticket      Fare  \\\n",
      "0         3    male  34.50000      0      0              330911    7.8292   \n",
      "1         3  female  47.00000      1      0              363272    7.0000   \n",
      "2         2    male  62.00000      0      0              240276    9.6875   \n",
      "3         3    male  27.00000      0      0              315154    8.6625   \n",
      "4         3  female  22.00000      1      1             3101298   12.2875   \n",
      "5         3    male  14.00000      0      0                7538    9.2250   \n",
      "6         3  female  30.00000      0      0              330972    7.6292   \n",
      "7         2    male  26.00000      1      1              248738   29.0000   \n",
      "8         3  female  18.00000      0      0                2657    7.2292   \n",
      "9         3    male  21.00000      2      0           A/4 48871   24.1500   \n",
      "10        3    male  30.27259      0      0              349220    7.8958   \n",
      "11        1    male  46.00000      0      0                 694   26.0000   \n",
      "12        1  female  23.00000      1      0               21228   82.2667   \n",
      "13        2    male  63.00000      1      0               24065   26.0000   \n",
      "14        1  female  47.00000      1      0         W.E.P. 5734   61.1750   \n",
      "15        2  female  24.00000      1      0       SC/PARIS 2167   27.7208   \n",
      "16        2    male  35.00000      0      0              233734   12.3500   \n",
      "17        3    male  21.00000      0      0                2692    7.2250   \n",
      "18        3  female  27.00000      1      0    STON/O2. 3101270    7.9250   \n",
      "19        3  female  45.00000      0      0                2696    7.2250   \n",
      "20        1    male  55.00000      1      0            PC 17603   59.4000   \n",
      "21        3    male   9.00000      0      1             C 17368    3.1708   \n",
      "22        1  female  30.27259      0      0            PC 17598   31.6833   \n",
      "23        1    male  21.00000      0      1            PC 17597   61.3792   \n",
      "24        1  female  48.00000      1      3            PC 17608  262.3750   \n",
      "25        3    male  50.00000      1      0           A/5. 3337   14.5000   \n",
      "26        1  female  22.00000      0      1              113509   61.9792   \n",
      "27        3    male  22.50000      0      0                2698    7.2250   \n",
      "28        1    male  41.00000      0      0              113054   30.5000   \n",
      "29        3    male  30.27259      2      0                2662   21.6792   \n",
      "..      ...     ...       ...    ...    ...                 ...       ...   \n",
      "388       3    male  21.00000      0      0              364858    7.7500   \n",
      "389       3    male   6.00000      3      1              349909   21.0750   \n",
      "390       1    male  23.00000      0      0               12749   93.5000   \n",
      "391       1  female  51.00000      0      1            PC 17592   39.4000   \n",
      "392       3    male  13.00000      0      2           C.A. 2673   20.2500   \n",
      "393       2    male  47.00000      0      0          C.A. 30769   10.5000   \n",
      "394       3    male  29.00000      3      1              315153   22.0250   \n",
      "395       1  female  18.00000      1      0               13695   60.0000   \n",
      "396       3    male  24.00000      0      0              371109    7.2500   \n",
      "397       1  female  48.00000      1      1               13567   79.2000   \n",
      "398       3    male  22.00000      0      0              347065    7.7750   \n",
      "399       3    male  31.00000      0      0               21332    7.7333   \n",
      "400       1  female  30.00000      0      0               36928  164.8667   \n",
      "401       2    male  38.00000      1      0               28664   21.0000   \n",
      "402       1  female  22.00000      0      1              112378   59.4000   \n",
      "403       1    male  17.00000      0      0              113059   47.1000   \n",
      "404       1    male  43.00000      1      0               17765   27.7208   \n",
      "405       2    male  20.00000      0      0       SC/PARIS 2166   13.8625   \n",
      "406       2    male  23.00000      1      0               28666   10.5000   \n",
      "407       1    male  50.00000      1      1              113503  211.5000   \n",
      "408       3  female  30.27259      0      0              334915    7.7208   \n",
      "409       3  female   3.00000      1      1  SOTON/O.Q. 3101315   13.7750   \n",
      "410       3  female  30.27259      0      0              365237    7.7500   \n",
      "411       1  female  37.00000      1      0               19928   90.0000   \n",
      "412       3  female  28.00000      0      0              347086    7.7750   \n",
      "413       3    male  30.27259      0      0           A.5. 3236    8.0500   \n",
      "414       1  female  39.00000      0      0            PC 17758  108.9000   \n",
      "415       3    male  38.50000      0      0  SOTON/O.Q. 3101262    7.2500   \n",
      "416       3    male  30.27259      0      0              359309    8.0500   \n",
      "417       3    male  30.27259      1      1                2668   22.3583   \n",
      "\n",
      "    Embarked  \n",
      "0          Q  \n",
      "1          S  \n",
      "2          Q  \n",
      "3          S  \n",
      "4          S  \n",
      "5          S  \n",
      "6          Q  \n",
      "7          S  \n",
      "8          C  \n",
      "9          S  \n",
      "10         S  \n",
      "11         S  \n",
      "12         S  \n",
      "13         S  \n",
      "14         S  \n",
      "15         C  \n",
      "16         Q  \n",
      "17         C  \n",
      "18         S  \n",
      "19         C  \n",
      "20         C  \n",
      "21         S  \n",
      "22         S  \n",
      "23         C  \n",
      "24         C  \n",
      "25         S  \n",
      "26         C  \n",
      "27         C  \n",
      "28         S  \n",
      "29         C  \n",
      "..       ...  \n",
      "388        Q  \n",
      "389        S  \n",
      "390        S  \n",
      "391        S  \n",
      "392        S  \n",
      "393        S  \n",
      "394        S  \n",
      "395        S  \n",
      "396        Q  \n",
      "397        C  \n",
      "398        S  \n",
      "399        Q  \n",
      "400        S  \n",
      "401        S  \n",
      "402        C  \n",
      "403        S  \n",
      "404        C  \n",
      "405        C  \n",
      "406        S  \n",
      "407        C  \n",
      "408        Q  \n",
      "409        S  \n",
      "410        Q  \n",
      "411        Q  \n",
      "412        S  \n",
      "413        S  \n",
      "414        C  \n",
      "415        S  \n",
      "416        S  \n",
      "417        C  \n",
      "\n",
      "[418 rows x 8 columns]\n"
     ]
    }
   ],
   "source": [
    "print(df_test)"
   ]
  },
  {
   "cell_type": "code",
   "execution_count": 22,
   "metadata": {},
   "outputs": [
    {
     "name": "stdout",
     "output_type": "stream",
     "text": [
      "(418, 2)\n",
      "(418, 363)\n",
      "(418, 3)\n",
      "(418, 369)\n"
     ]
    }
   ],
   "source": [
    "dummies_sex = pd.get_dummies(df_test['Sex'])\n",
    "print(dummies_sex.shape)\n",
    "# ,\"Ticket\",\"Embarked\"\n",
    "dummies_Ticket = pd.get_dummies(df_test['Ticket'])\n",
    "print(dummies_Ticket.shape)\n",
    "\n",
    "dummies_Embarked = pd.get_dummies(df_test['Embarked'])\n",
    "print(dummies_Embarked.shape)\n",
    "# df_with_dummy = df[['data1']].join(dummies)\n",
    "# print(df_with_dummy)\n",
    "dummies = pd.concat([dummies_sex,dummies_Ticket,dummies_Embarked,df_test['Age']],axis=1)\n",
    "print(dummies.shape)"
   ]
  },
  {
   "cell_type": "code",
   "execution_count": 23,
   "metadata": {},
   "outputs": [
    {
     "name": "stdout",
     "output_type": "stream",
     "text": [
      "(418, 369)\n",
      "(418, 9)\n"
     ]
    }
   ],
   "source": [
    "from sklearn.decomposition import PCA\n",
    "pca = PCA(n_components=9)\n",
    "x_test = dummies.values\n",
    "print(x_test.shape)\n",
    "new_x_test = pca.fit_transform(x_test)\n",
    "print(new_x_test.shape)"
   ]
  },
  {
   "cell_type": "code",
   "execution_count": 24,
   "metadata": {},
   "outputs": [
    {
     "name": "stdout",
     "output_type": "stream",
     "text": [
      "(418, 9)\n"
     ]
    }
   ],
   "source": [
    "from sklearn.preprocessing import StandardScaler\n",
    "std = StandardScaler()\n",
    "new_x_train = std.fit_transform(new_x_test)\n",
    "print(new_x_test.shape)"
   ]
  },
  {
   "cell_type": "code",
   "execution_count": 25,
   "metadata": {},
   "outputs": [
    {
     "name": "stdout",
     "output_type": "stream",
     "text": [
      "[0 0 0 1 0 0 1 1 0 0 0 0 0 0 0 0 0 0 1 0 0 0 1 0 0 0 0 0 0 0 0 1 1 1 0 0 1\n",
      " 0 1 0 0 0 0 1 0 1 0 0 0 0 1 1 0 1 0 0 0 1 0 0 0 0 0 0 0 1 0 0 0 0 0 0 1 0\n",
      " 0 0 0 0 0 0 0 0 0 0 0 0 1 0 1 0 0 0 1 0 1 1 0 0 0 0 0 1 0 1 0 0 0 0 0 0 0\n",
      " 1 0 0 0 0 0 0 0 1 0 0 0 0 0 0 0 1 0 1 0 0 1 0 0 1 1 1 0 0 0 1 0 0 0 0 0 0\n",
      " 0 0 0 0 0 0 0 1 1 0 0 1 1 0 1 0 0 1 0 0 1 0 0 1 0 0 0 0 0 0 0 0 0 0 0 0 1\n",
      " 0 0 0 1 0 0 0 0 0 0 0 0 0 0 1 1 0 0 0 1 0 0 1 1 1 0 0 0 0 0 0 1 0 0 0 1 0\n",
      " 0 0 0 1 0 1 0 0 0 0 0 0 0 0 0 0 0 0 0 0 0 0 0 0 0 0 1 1 0 0 1 1 0 0 0 0 0\n",
      " 0 0 0 1 0 0 0 0 0 1 0 0 0 1 1 0 0 0 0 0 0 0 0 1 0 0 0 0 1 0 0 0 1 0 0 0 1\n",
      " 0 0 0 0 0 0 0 1 1 0 0 0 0 0 0 0 0 0 0 0 0 0 1 0 1 1 1 0 0 0 0 0 0 0 0 0 0\n",
      " 0 1 0 0 0 1 0 0 0 0 0 0 0 1 0 1 1 0 1 0 0 0 0 0 0 0 1 0 0 1 1 1 1 0 0 0 0\n",
      " 0 1 0 0 0 0 0 0 0 0 0 1 1 0 0 0 1 0 0 0 0 0 0 0 0 0 0 0 0 0 1 0 0 0 0 0 0\n",
      " 0 1 0 1 0 1 0 0 0 0 0]\n"
     ]
    }
   ],
   "source": [
    "pre = svm.predict(new_x_test)\n",
    "print(pre)"
   ]
  },
  {
   "cell_type": "code",
   "execution_count": 62,
   "metadata": {
    "collapsed": true
   },
   "outputs": [],
   "source": [
    "df_test=pd.read_csv('test.csv')\n",
    "result = pd.DataFrame({'PassengerId':df_test['PassengerId'].as_matrix(), 'Survived':pre.astype(np.int32)})"
   ]
  },
  {
   "cell_type": "code",
   "execution_count": 63,
   "metadata": {
    "collapsed": true
   },
   "outputs": [],
   "source": [
    "result.to_csv(\"./logistic_regression_predictions.csv\", index=False)"
   ]
  },
  {
   "cell_type": "code",
   "execution_count": null,
   "metadata": {
    "collapsed": true
   },
   "outputs": [],
   "source": []
  },
  {
   "cell_type": "code",
   "execution_count": null,
   "metadata": {
    "collapsed": true
   },
   "outputs": [],
   "source": []
  },
  {
   "cell_type": "code",
   "execution_count": null,
   "metadata": {
    "collapsed": true
   },
   "outputs": [],
   "source": []
  }
 ],
 "metadata": {
  "kernelspec": {
   "display_name": "Python 3",
   "language": "python",
   "name": "python3"
  },
  "language_info": {
   "codemirror_mode": {
    "name": "ipython",
    "version": 3
   },
   "file_extension": ".py",
   "mimetype": "text/x-python",
   "name": "python",
   "nbconvert_exporter": "python",
   "pygments_lexer": "ipython3",
   "version": "3.6.3"
  }
 },
 "nbformat": 4,
 "nbformat_minor": 2
}
